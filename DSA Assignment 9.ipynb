{
 "cells": [
  {
   "cell_type": "code",
   "execution_count": null,
   "id": "5ce858e5-5ec5-45ea-983e-31dc658d438e",
   "metadata": {},
   "outputs": [],
   "source": [
    "#1. Given an integer n, return true if it is a power of two. Otherwise, return false.\n",
    "#An integer n is a power of two, if there exists an integer x such that n == 2x.\n",
    "#Example 1:\n",
    "#Input: n = 1\n",
    "#Output: true"
   ]
  },
  {
   "cell_type": "code",
   "execution_count": 1,
   "id": "479e713e-c99e-4bb0-bbb4-f743afa86bf5",
   "metadata": {},
   "outputs": [
    {
     "name": "stdout",
     "output_type": "stream",
     "text": [
      "True\n"
     ]
    }
   ],
   "source": [
    "def isPowerOfTwo(n):\n",
    "    if n <= 0:\n",
    "        return False\n",
    "    return n & (n - 1) == 0\n",
    "\n",
    "n = 1\n",
    "result = isPowerOfTwo(n)\n",
    "print(result)  "
   ]
  },
  {
   "cell_type": "code",
   "execution_count": null,
   "id": "e2b0c5ae-d605-4df9-956d-75d7fdda6a53",
   "metadata": {},
   "outputs": [],
   "source": [
    "#2. Given a number n, find the sum of the first natural numbers.\n",
    "#Example 1:\n",
    "#Input: n = 3\n",
    "#Output: 6"
   ]
  },
  {
   "cell_type": "code",
   "execution_count": 2,
   "id": "67cbc532-3a86-4a89-a24d-6a2605f7cdb1",
   "metadata": {},
   "outputs": [
    {
     "name": "stdout",
     "output_type": "stream",
     "text": [
      "6\n"
     ]
    }
   ],
   "source": [
    "def sumOfFirstNNumbers(n):\n",
    "    return (n * (n + 1)) // 2\n",
    "\n",
    "n = 3\n",
    "result = sumOfFirstNNumbers(n)\n",
    "print(result)"
   ]
  },
  {
   "cell_type": "code",
   "execution_count": null,
   "id": "a4e5b527-660c-45e4-9c36-86a016c69bd9",
   "metadata": {},
   "outputs": [],
   "source": [
    "#3. Given a positive integer, N. Find the factorial of N.\n",
    "#Example 1:\n",
    "#Input: N = 5\n",
    "#Output: 120"
   ]
  },
  {
   "cell_type": "code",
   "execution_count": 3,
   "id": "647d31d2-1229-4404-a7d8-32609ddd06b0",
   "metadata": {},
   "outputs": [
    {
     "name": "stdout",
     "output_type": "stream",
     "text": [
      "120\n"
     ]
    }
   ],
   "source": [
    "def factorial(N):\n",
    "    if N == 0 or N == 1:\n",
    "        return 1\n",
    "    \n",
    "    result = 1\n",
    "    for i in range(2, N + 1):\n",
    "        result *= i\n",
    "    \n",
    "    return result\n",
    "\n",
    "N = 5\n",
    "result = factorial(N)\n",
    "print(result) "
   ]
  },
  {
   "cell_type": "code",
   "execution_count": null,
   "id": "baeb695a-f7a8-49a7-882a-a72eeb6b7160",
   "metadata": {},
   "outputs": [],
   "source": [
    "#4. Given a number N and a power P, the task is to find the exponent of this number raised to the given power, i.e. N^P.\n",
    "#Example 1 :\n",
    "#Input: N = 5, P = 2\n",
    "#Output: 25"
   ]
  },
  {
   "cell_type": "code",
   "execution_count": 4,
   "id": "71902fcc-1c3c-461e-9caf-3d0a8b6298a3",
   "metadata": {},
   "outputs": [
    {
     "name": "stdout",
     "output_type": "stream",
     "text": [
      "25\n"
     ]
    }
   ],
   "source": [
    "def exponent(N, P):\n",
    "    result = N ** P\n",
    "    return result\n",
    "\n",
    "N = 5\n",
    "P = 2\n",
    "result = exponent(N, P)\n",
    "print(result)"
   ]
  },
  {
   "cell_type": "code",
   "execution_count": null,
   "id": "73595dfa-284a-43a9-834f-b46c7ddd13bc",
   "metadata": {},
   "outputs": [],
   "source": [
    "#5. Given an array of integers arr, the task is to find maximum element of that array using recursion.\n",
    "#Example 1:\n",
    "#Input: arr = {1, 4, 3, -5, -4, 8, 6};\n",
    "#Output: 8"
   ]
  },
  {
   "cell_type": "code",
   "execution_count": 5,
   "id": "90d5307d-b407-48eb-baa8-42666149ea42",
   "metadata": {},
   "outputs": [
    {
     "name": "stdout",
     "output_type": "stream",
     "text": [
      "8\n"
     ]
    }
   ],
   "source": [
    "def findMax(arr):\n",
    "    if len(arr) == 1:\n",
    "        return arr[0]\n",
    "\n",
    "    mid = len(arr) // 2\n",
    "    left_max = findMax(arr[:mid])\n",
    "    right_max = findMax(arr[mid:])\n",
    "\n",
    "    return max(left_max, right_max)\n",
    "\n",
    "arr = [1, 4, 3, -5, -4, 8, 6]\n",
    "result = findMax(arr)\n",
    "print(result)"
   ]
  },
  {
   "cell_type": "code",
   "execution_count": null,
   "id": "42f7202d-08f8-46cc-a0a7-4b14ecead1a6",
   "metadata": {},
   "outputs": [],
   "source": [
    "#6. Given first term (a), common difference (d) and a integer N of the Arithmetic Progression series, the task is to find Nth term of the series.\n",
    "#Example 1:\n",
    "#Input : a = 2 d = 1 N = 5\n",
    "#Output : 6\n",
    "#The 5th term of the series is : 6"
   ]
  },
  {
   "cell_type": "code",
   "execution_count": 6,
   "id": "9aad6c55-48b9-4b3b-9bbb-88353839c33d",
   "metadata": {},
   "outputs": [
    {
     "name": "stdout",
     "output_type": "stream",
     "text": [
      "6\n"
     ]
    }
   ],
   "source": [
    "def findNthTerm(a, d, N):\n",
    "    nth_term = a + (N - 1) * d\n",
    "    return nth_term\n",
    "\n",
    "a = 2\n",
    "d = 1\n",
    "N = 5\n",
    "result = findNthTerm(a, d, N)\n",
    "print(result) "
   ]
  },
  {
   "cell_type": "code",
   "execution_count": null,
   "id": "fc0e5236-0449-46c3-880d-9282e0cc0f9b",
   "metadata": {},
   "outputs": [],
   "source": [
    "#7. Given a string S, the task is to write a program to print all permutations of a given string.\n",
    "#Example 1:\n",
    "#*Input:*\n",
    "#S = “ABC”\n",
    "#*Output:*\n",
    "#“ABC”, “ACB”, “BAC”, “BCA”, “CBA”, “CAB”"
   ]
  },
  {
   "cell_type": "code",
   "execution_count": 7,
   "id": "134d4ac5-b090-4f88-a74f-656006a89b2c",
   "metadata": {},
   "outputs": [
    {
     "name": "stdout",
     "output_type": "stream",
     "text": [
      "['ABC', 'ACB', 'BAC', 'BCA', 'CBA', 'CAB']\n"
     ]
    }
   ],
   "source": [
    "def permute(S):\n",
    "    result = []\n",
    "    backtrack(list(S), 0, len(S) - 1, result)\n",
    "    return result\n",
    "\n",
    "\n",
    "def backtrack(S, start, end, result):\n",
    "    if start == end:\n",
    "        result.append(\"\".join(S))\n",
    "    else:\n",
    "        for i in range(start, end + 1):\n",
    "            S[start], S[i] = S[i], S[start]\n",
    "            backtrack(S, start + 1, end, result)\n",
    "            S[start], S[i] = S[i], S[start]  # backtrack\n",
    "\n",
    "\n",
    "S = \"ABC\"\n",
    "result = permute(S)\n",
    "print(result)\n"
   ]
  },
  {
   "cell_type": "code",
   "execution_count": null,
   "id": "b1d44589-3ea9-4fb7-923a-8860efe306e2",
   "metadata": {},
   "outputs": [],
   "source": [
    "#8. Given an array, find a product of all array elements.\n",
    "#Example 1:\n",
    "#Input : arr[] = {1, 2, 3, 4, 5}\n",
    "#Output : 120\n"
   ]
  },
  {
   "cell_type": "code",
   "execution_count": 8,
   "id": "f4e5c767-5dd0-4c1a-b9fb-58d4e48f7c11",
   "metadata": {},
   "outputs": [
    {
     "name": "stdout",
     "output_type": "stream",
     "text": [
      "120\n"
     ]
    }
   ],
   "source": [
    "def productOfArray(arr):\n",
    "    product = 1\n",
    "    for num in arr:\n",
    "        product *= num\n",
    "    return product\n",
    "\n",
    "arr = [1, 2, 3, 4, 5]\n",
    "result = productOfArray(arr)\n",
    "print(result)  "
   ]
  },
  {
   "cell_type": "code",
   "execution_count": null,
   "id": "e3f0e50b-d44c-4283-bd38-a98f01f95940",
   "metadata": {},
   "outputs": [],
   "source": []
  }
 ],
 "metadata": {
  "kernelspec": {
   "display_name": "Python 3 (ipykernel)",
   "language": "python",
   "name": "python3"
  },
  "language_info": {
   "codemirror_mode": {
    "name": "ipython",
    "version": 3
   },
   "file_extension": ".py",
   "mimetype": "text/x-python",
   "name": "python",
   "nbconvert_exporter": "python",
   "pygments_lexer": "ipython3",
   "version": "3.10.6"
  }
 },
 "nbformat": 4,
 "nbformat_minor": 5
}
